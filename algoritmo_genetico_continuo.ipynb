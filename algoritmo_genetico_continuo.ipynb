{
  "cells": [
    {
      "cell_type": "markdown",
      "source": [
        "# <center>Algoritmo Genético Continuo</center>\n",
        "## <center>Implementación</center>"
      ],
      "metadata": {
        "nteract": {
          "transient": {
            "deleting": false
          }
        }
      }
    },
    {
      "cell_type": "code",
      "source": [
        "import copy\n",
        "import numpy as np\n",
        "\n",
        "class Individuo:\n",
        "    def __init__(self, alelos, cromosoma):\n",
        "        self._alelos = alelos\n",
        "        self._cromosoma = cromosoma\n",
        "        self._fitness = 0"
      ],
      "outputs": [],
      "execution_count": null,
      "metadata": {
        "collapsed": true,
        "jupyter": {
          "source_hidden": false,
          "outputs_hidden": false
        },
        "nteract": {
          "transient": {
            "deleting": false
          }
        },
        "execution": {
          "iopub.status.busy": "2020-10-26T17:24:33.165Z",
          "iopub.execute_input": "2020-10-26T17:24:33.191Z",
          "iopub.status.idle": "2020-10-26T17:24:34.659Z",
          "shell.execute_reply": "2020-10-26T17:24:34.696Z"
        }
      }
    },
    {
      "cell_type": "code",
      "source": [
        "class AGC:\n",
        "    def __init__(self, cantidad_individuos, alelos, generaciones, p, problema, maxim = True):\n",
        "        self._cantidad_individuos = cantidad_individuos\n",
        "        self._alelos = alelos\n",
        "        self._generaciones = generaciones\n",
        "        self._p = p\n",
        "        self._problema = problema\n",
        "        self._maxim = maxim\n",
        "        self._individuos = np.array([])\n",
        "\n",
        "    def run(self):\n",
        "        self.crearIndividuos()\n",
        "        self._mejor_historico = self._individuos[0]\n",
        "        generacion = 1\n",
        "        while generacion <= self._generaciones:\n",
        "            self.evaluaIndividuos()\n",
        "            self.mejor()\n",
        "            hijos = np.array([])\n",
        "            while len(hijos) < len(self._individuos):\n",
        "                padre1 = self.ruleta()\n",
        "                padre2 = self.ruleta()\n",
        "                while padre1 == padre2:\n",
        "                    padre2 = self.ruleta()\n",
        "                h1, h2 = self.cruza(self._individuos[padre1], self._individuos[padre2])\n",
        "                hijos = np.append(hijos, [h1])\n",
        "                hijos = np.append(hijos, [h2])\n",
        "            self.mutacion(hijos)\n",
        "            self._individuos = np.copy(hijos)\n",
        "\n",
        "            if generacion % 100 == 0:\n",
        "                print(f'Generación: {generacion} Mejor Histórico: \\\n",
        "{self._mejor_historico._cromosoma} {self._mejor_historico._fitness :.5f}')\n",
        "            generacion += 1\n",
        "\n",
        "    def crearIndividuos(self):\n",
        "        rango = (self._problema.MAX_VALUE - self._problema.MIN_VALUE)\n",
        "        for i in range(self._cantidad_individuos):\n",
        "            valores = np.random.random(size = self._alelos)\n",
        "            cromosoma = self._problema.MIN_VALUE +  valores * rango\n",
        "            individuo = Individuo(self._alelos, cromosoma)\n",
        "            self._individuos = np.append(self._individuos, [individuo])\n",
        "\n",
        "    def evaluaIndividuos(self):\n",
        "        for i in self._individuos:\n",
        "            i._fitness = self._problema.fitness(i._cromosoma)\n",
        "            if not self._maxim:\n",
        "                i._fitness *= -1\n",
        "\n",
        "    def ruleta(self):\n",
        "        f_sum = np.sum([i._fitness for i in self._individuos])\n",
        "        r = np.random.randint(np.abs(f_sum + 1), dtype = np.int64)\n",
        "        if f_sum < 0:\n",
        "            r *= -1\n",
        "        k = 0\n",
        "        F = self._individuos[k]._fitness\n",
        "        if f_sum < 0:\n",
        "            while F > r and k < len(self._individuos)-1:\n",
        "                k += 1\n",
        "                F += self._individuos[k]._fitness\n",
        "        else:\n",
        "            while F < r and k < len(self._individuos)-1:\n",
        "                k += 1\n",
        "                F += self._individuos[k]._fitness\n",
        "        return k\n",
        "\n",
        "    def cruza(self, i1, i2):\n",
        "        h1 = copy.deepcopy(i1)\n",
        "        h2 = copy.deepcopy(i2)\n",
        "\n",
        "        s = self._alelos - 1\n",
        "        punto_cruza = np.random.randint(s) + 1\n",
        "        h1._cromosoma[punto_cruza:], h2._cromosoma[punto_cruza:] = h2._cromosoma[punto_cruza:], h1._cromosoma[punto_cruza:]\n",
        "        return h1, h2\n",
        "\n",
        "    def mutacion(self, hijos):\n",
        "        rango = (self._problema.MAX_VALUE - self._problema.MIN_VALUE)\n",
        "        for h in hijos:\n",
        "            for a in range(len(h._cromosoma)):\n",
        "                if np.random.rand() < self._p:\n",
        "                    h._cromosoma[a] = self._problema.MIN_VALUE + np.random.random() * rango\n",
        "\n",
        "    def mejor(self):\n",
        "        for i in self._individuos:\n",
        "            if i._fitness > self._mejor_historico._fitness:\n",
        "                self._mejor_historico = copy.deepcopy(i)"
      ],
      "outputs": [],
      "execution_count": null,
      "metadata": {
        "collapsed": true,
        "jupyter": {
          "source_hidden": false,
          "outputs_hidden": false
        },
        "nteract": {
          "transient": {
            "deleting": false
          }
        },
        "execution": {
          "iopub.status.busy": "2020-10-26T17:24:35.304Z",
          "iopub.execute_input": "2020-10-26T17:24:35.331Z",
          "iopub.status.idle": "2020-10-26T17:24:35.362Z",
          "shell.execute_reply": "2020-10-26T17:24:35.389Z"
        }
      }
    },
    {
      "cell_type": "code",
      "source": [
        "class Sphere:\n",
        "    MIN_VALUE = -5.12\n",
        "    MAX_VALUE = 5.12\n",
        "    def __init__(self):\n",
        "        pass\n",
        "    def fitness(self, cromosoma):\n",
        "        z = 0\n",
        "        for alelo in cromosoma:\n",
        "            z += alelo**2\n",
        "        return z"
      ],
      "outputs": [],
      "execution_count": null,
      "metadata": {
        "collapsed": true,
        "jupyter": {
          "source_hidden": false,
          "outputs_hidden": false
        },
        "nteract": {
          "transient": {
            "deleting": false
          }
        },
        "execution": {
          "iopub.status.busy": "2020-10-26T17:24:37.656Z",
          "iopub.execute_input": "2020-10-26T17:24:37.692Z",
          "iopub.status.idle": "2020-10-26T17:24:37.729Z",
          "shell.execute_reply": "2020-10-26T17:24:37.746Z"
        }
      }
    },
    {
      "cell_type": "code",
      "source": [
        "def main():\n",
        "    s = Sphere()\n",
        "    ag = AGC(64, 2 , 2000, 0.02, s, False)\n",
        "    ag.run()"
      ],
      "outputs": [],
      "execution_count": null,
      "metadata": {
        "collapsed": true,
        "jupyter": {
          "source_hidden": false,
          "outputs_hidden": false
        },
        "nteract": {
          "transient": {
            "deleting": false
          }
        },
        "execution": {
          "iopub.status.busy": "2020-10-26T17:25:15.171Z",
          "iopub.execute_input": "2020-10-26T17:25:15.205Z",
          "iopub.status.idle": "2020-10-26T17:25:15.268Z",
          "shell.execute_reply": "2020-10-26T17:25:15.304Z"
        }
      }
    },
    {
      "cell_type": "code",
      "source": [
        "main()"
      ],
      "outputs": [],
      "execution_count": null,
      "metadata": {
        "collapsed": true,
        "jupyter": {
          "source_hidden": false,
          "outputs_hidden": false
        },
        "nteract": {
          "transient": {
            "deleting": false
          }
        },
        "execution": {
          "iopub.status.busy": "2020-10-26T17:26:05.860Z",
          "iopub.execute_input": "2020-10-26T17:26:05.882Z",
          "iopub.status.idle": "2020-10-26T17:26:47.925Z",
          "shell.execute_reply": "2020-10-26T17:26:47.973Z"
        }
      }
    }
  ],
  "metadata": {
    "kernel_info": {
      "name": "python3"
    },
    "language_info": {
      "name": "python",
      "version": "3.7.3",
      "mimetype": "text/x-python",
      "codemirror_mode": {
        "name": "ipython",
        "version": 3
      },
      "pygments_lexer": "ipython3",
      "nbconvert_exporter": "python",
      "file_extension": ".py"
    },
    "kernelspec": {
      "argv": [
        "python",
        "-m",
        "ipykernel_launcher",
        "-f",
        "{connection_file}"
      ],
      "display_name": "Python 3",
      "language": "python",
      "name": "python3"
    },
    "nteract": {
      "version": "0.25.1"
    }
  },
  "nbformat": 4,
  "nbformat_minor": 0
}
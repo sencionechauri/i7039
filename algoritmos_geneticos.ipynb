{
  "cells": [
    {
      "cell_type": "markdown",
      "source": [
        "# <center>Algoritmos Genéticos</center>"
      ],
      "metadata": {
        "nteract": {
          "transient": {
            "deleting": false
          }
        }
      }
    },
    {
      "cell_type": "code",
      "source": [
        "%%html\n",
        "<center><iframe src=\"https://drive.google.com/file/d/1DSW68jJLJ8tOXQO8g4DoQPmsIv4C9rsc/preview\" width=\"320\" height=\"240\"></iframe></center>"
      ],
      "outputs": [],
      "execution_count": null,
      "metadata": {
        "collapsed": true,
        "jupyter": {
          "source_hidden": false,
          "outputs_hidden": false
        },
        "nteract": {
          "transient": {
            "deleting": false
          }
        },
        "execution": {
          "iopub.status.busy": "2020-10-13T16:19:19.993Z",
          "iopub.execute_input": "2020-10-13T16:19:20.100Z",
          "iopub.status.idle": "2020-10-13T16:19:21.130Z",
          "shell.execute_reply": "2020-10-13T16:19:21.663Z"
        }
      }
    },
    {
      "cell_type": "markdown",
      "source": [
        "## <center>Algoritmo Genético Binario</center>\n",
        "\n",
        "Si se tiene un problema que se desea resolver y se puede representar cada posible solución al problema como una **cadena de bits**, entonces un Algoritmo Genético puede resolver el problema."
      ],
      "metadata": {
        "nteract": {
          "transient": {
            "deleting": false
          }
        }
      }
    },
    {
      "cell_type": "markdown",
      "source": [
        "## <center>Representación</center>\n",
        "\n",
        "Supongase que se tiene que diseñar un robot de bajo peso con suficiente poder para navegar terreno difícil y suficiente energía para no regresar a la base muy seguido.\n",
        "\n",
        "Parámetros:\n",
        "\n",
        "Tipo de motor y tamaño.\n",
        "\n",
        "Tipo de fuente de energía y tamaño.\n",
        "\n",
        "Cada uno de dichos parámetros pudiera codificarse de forma binaria de forma tal que una combinación de bits particular represente un tipo de motor o un tipo de fuente de energía. La siguiente tabla muestra un ejemplo de una posible codificación binaria para distintos tipos de motor y fuente de energía.\n",
        "\n",
        "\n",
        "Motor | Fuente de Energía\n",
        "--- | ---\n",
        "000 = 5 volts motor a pasos | 000 = 12 volts batería nickel.cadmio\n",
        "001 = 9 volts motor a pasos | 001 = 24 volts batería nickel-cadmio\n",
        "010 = 12 volts motor a pasos | 010 = 12 volts batería de litio\n",
        "011 = 24 volts motor a pasos | 011 = 24 volts batería de litio\n",
        "100 = 5 volts servo motor | 100 = 12 volts panel solar\n",
        "101 = 9 volts servo motor | 101 = 24 volts panel solar\n",
        "110 = 12 volts servo motor | 110 = 12 volts reactor de fusión\n",
        "111 = 24 volts servo motor | 111 = 24 volts reactor de fusión"
      ],
      "metadata": {
        "nteract": {
          "transient": {
            "deleting": false
          }
        }
      }
    },
    {
      "cell_type": "code",
      "source": [
        "%%html\n",
        "<center><iframe src=\"https://drive.google.com/file/d/1dT8Bp0fwIW-PAaCTkOFxSOMhvCJsHZdN/preview\" width=\"320\" height=\"240\"></iframe></center>"
      ],
      "outputs": [],
      "execution_count": null,
      "metadata": {
        "collapsed": true,
        "jupyter": {
          "source_hidden": false,
          "outputs_hidden": false
        },
        "nteract": {
          "transient": {
            "deleting": false
          }
        },
        "execution": {
          "iopub.status.busy": "2020-10-13T16:22:40.117Z",
          "iopub.execute_input": "2020-10-13T16:22:40.153Z",
          "iopub.status.idle": "2020-10-13T16:22:40.259Z",
          "shell.execute_reply": "2020-10-13T16:22:40.303Z"
        }
      }
    },
    {
      "cell_type": "markdown",
      "source": [
        "## <center>Fitness</center>\n",
        "\n",
        "No se puede simular evolución si no se tiene una buena definición de fitness o aptitud. Para el ejemplo del robot se podría plantear una función de aptitud como la siguiente:\n",
        "\n",
        "Fitness = Energia(horas)+Potencia(Watts)-Peso(Kilogramos)\n",
        "\n",
        "La cual establece un balance entre la energía entregada por la batería más la potencia brindada por el motor menos el peso de todo el robot.\n",
        "\n",
        "**Para nosotros como desarrolladores de soluciones el reto está en diseñar una buena función de fitness (o error) que permita al algoritmo encontrar la mejor solución posible**."
      ],
      "metadata": {
        "nteract": {
          "transient": {
            "deleting": false
          }
        }
      }
    },
    {
      "cell_type": "markdown",
      "source": [
        "## <center>Individuos</center>\n",
        "\n",
        "Los individuos dentro del algoritmo genético serán secuencias de bits que codifiquen o representen combinaciones de los distintos elementos de decisión, en nuestro ejemplo los individuos serán combinaciones de motores y fuentes de energía representadas como bits. \n",
        "\n",
        "A continuación se muestran dos ejemplos de individuos.\n",
        "\n",
        "24 volts motor a pasos | 24 volts batería nickel-cadmio\n",
        "--- | ---\n",
        "011 | 001\n",
        "\n",
        "\n",
        "5 volts servo motor | 24 volts reactor fusión\n",
        "--- | ---\n",
        "100 | 111"
      ],
      "metadata": {
        "nteract": {
          "transient": {
            "deleting": false
          }
        }
      }
    },
    {
      "cell_type": "markdown",
      "source": [
        "## <center>Algunos Conceptos</center>\n",
        "\n",
        "Para mantener congruencia con la teoría genética, los algoritmos genéticos toman prestados algunos conceptos y los adaptan a sus propios elementos. A continuación se muestran dichos conceptos de la teoría genética con su equivalente en los AG.\n",
        "\n",
        "* **Alelo**: Cada bit en un individuo.\n",
        "* **Gen**: Una secuencia de bits que contenga una sección de información de un individuo.\n",
        "* **Genotipo**: Un gen específico.\n",
        "* **Fenotipo**: El parámetro específico al problema que representa el genotipo.\n",
        "* **Cromosoma**: Colección de genes de un individuo."
      ],
      "metadata": {
        "nteract": {
          "transient": {
            "deleting": false
          }
        }
      }
    },
    {
      "cell_type": "markdown",
      "source": [
        "## <center>Ejemplo: Descripción de un individuo</center>\n",
        "\n",
        "24 volts motor a pasos | 24 volts batería nickel-cadmio\n",
        "--- | ---\n",
        "011 | 001\n",
        "\n",
        "* La solución tiene 2 **genes**, uno para motor y otro para batería.\n",
        "* Genotipo de motor: 011.\n",
        "* Fenotipo de motror: 24 volts motor a pasos.\n",
        "* Genotipo de energía: 001.\n",
        "* Fenotipo de batería: 24 volts batería nickel-cadmio.\n",
        "\n"
      ],
      "metadata": {
        "nteract": {
          "transient": {
            "deleting": false
          }
        }
      }
    },
    {
      "cell_type": "markdown",
      "source": [
        "## <center>Selección y Cruza</center>\n",
        "\n",
        "En terminos de los algoritmos genéticos la cruza significa que cada individuo comparte algo de su información con su descendencia.\n",
        "\n",
        "Para ello se debe seleccionar una posición aleatoria a partir de la cual los alelos de dos individuos se intercambian."
      ],
      "metadata": {
        "nteract": {
          "transient": {
            "deleting": false
          }
        }
      }
    },
    {
      "cell_type": "code",
      "source": [
        "%%html\n",
        "<center><iframe src=\"https://drive.google.com/file/d/10fonKcGJZLpz9s_ti_SFw-6n237sB0uo/preview\" width=\"320\" height=\"240\"></iframe></center>"
      ],
      "outputs": [],
      "execution_count": null,
      "metadata": {
        "collapsed": true,
        "jupyter": {
          "source_hidden": false,
          "outputs_hidden": false
        },
        "nteract": {
          "transient": {
            "deleting": false
          }
        },
        "execution": {
          "iopub.status.busy": "2020-10-13T16:27:35.341Z",
          "iopub.execute_input": "2020-10-13T16:27:35.387Z",
          "iopub.status.idle": "2020-10-13T16:27:35.495Z",
          "shell.execute_reply": "2020-10-13T16:27:35.543Z"
        }
      }
    },
    {
      "cell_type": "markdown",
      "source": [
        "## <center>Cruza</center>\n",
        "\n",
        "Como parte del proceso de cruza se tomará la información de dos padres y se mezclará a partir de un punto de cruza para producir dos hijos.\n",
        "\n",
        "A continuación se muestra un ejemplo en el cual el punto de cruza es a partir del cuarto alelo (bit). Para producir el primer hijo se toma la información del primer padre hasta el cuarto alelo y a esa cadena de bits se agrega la información del segundo padre a partir del cuarto alelo. Para producir el segundo hijo se toman los primeros cuatro bits del segundo padre y la cadena se complementa con la información restante del primer padre. \n",
        "\n",
        "Padres | Hijos\n",
        "--- | ---\n",
        "**011001** | **0110**_11_\n",
        "*100111* | *1001*__01__"
      ],
      "metadata": {
        "nteract": {
          "transient": {
            "deleting": false
          }
        }
      }
    },
    {
      "cell_type": "markdown",
      "source": [
        "## <center>Selección</center>\n",
        "\n",
        "La selección de qué individuos cruzar se lleva a cabo con base en la aptitud (fitness) de los individuos de la población. Los individuos más aptos son más propensos a reproducirse y generar crias.\n",
        "\n",
        "Un método común para la selección es el de la ruleta, en el cual cada individuo tiene una probabilidad de ser seleccionado según su valor de fitness o afinidad, es decir, mientras un individuo resuelva de mejor manera el problema en cuestión, tiene más probabilidad de ser seleccionado.\n",
        "\n",
        "El método se puede entender como si existiera una ruleta en la cual cada individuo tiene un área correspondiente a su fitness y se lanzara un dardo hacia la ruleta, en ese caso, las secciones de un área mayor tienen más probabilidad de ser seleccionadas.\n",
        "\n",
        "<center><img src=\"media/ruleta.png\" width=50% /></center>"
      ],
      "metadata": {
        "nteract": {
          "transient": {
            "deleting": false
          }
        }
      }
    },
    {
      "cell_type": "code",
      "source": [
        "%%html\n",
        "<center><iframe src=\"https://drive.google.com/file/d/1pEmbb8q0iLxW8BxEgmDE5MvK0M2YxtE5/preview\" width=\"320\" height=\"240\"></iframe></center>"
      ],
      "outputs": [],
      "execution_count": null,
      "metadata": {
        "collapsed": true,
        "jupyter": {
          "source_hidden": false,
          "outputs_hidden": false
        },
        "nteract": {
          "transient": {
            "deleting": false
          }
        },
        "execution": {
          "iopub.status.busy": "2020-10-13T16:31:06.618Z",
          "iopub.execute_input": "2020-10-13T16:31:06.647Z",
          "iopub.status.idle": "2020-10-13T16:31:06.798Z",
          "shell.execute_reply": "2020-10-13T16:31:06.843Z"
        }
      }
    },
    {
      "cell_type": "markdown",
      "source": [
        "## <center>Mutación</center>\n",
        "\n",
        "Es el último paso del algoritmo genético.\n",
        "\n",
        "Para implementarla se selecciona una probabilidad de mutación, por ejemplo del 1%. Esto significa que después del proceso de cruza cada bit de cada cria tiene un 1% de probabilidad de cambiar al valor opuesto (un 1 cambia a 0 o un 0 cambia a 1).\n",
        "\n",
        "Si se tiene una población de $N$ individuos $x_i$, donde cada individuo tiene $n$ bits y el factor de mutación es $\\rho$, entonces al final de cada generación se invierte cada bit de cada individuo con una probabilidad de $ρ$.\n",
        "\n",
        "$$r \\leftarrow U[0,1]$$\n",
        "$$\n",
        "x_i(k) =\n",
        "\\begin{cases}\n",
        "x_i(k) & \\text{if $r \\geq \\rho$} \\\\\n",
        "0  & \\text{if $r$ < $\\rho$ y $x_i(k)=1$} \\\\\n",
        "1  & \\text{if $r$ < $\\rho$ y $x_i(k)=0$}\n",
        "\\end{cases}\n",
        "$$\n",
        "\n",
        "Para $i \\in [1,N]$ y $k \\in [1,n]$ donde $U[0,1]$ es un número aleatorio uniformemente distribuido entre 0 y 1."
      ],
      "metadata": {
        "nteract": {
          "transient": {
            "deleting": false
          }
        }
      }
    },
    {
      "cell_type": "markdown",
      "source": [
        "## <center>Algoritmo Genético</center>\n",
        "\n",
        "A continuación se describe el algoritmo genético propuesto a manera de pseudocódigo.\n",
        "\n",
        "```\n",
        "Padres <- Población generada aleatoriamente\n",
        "mientras no (criterio de paro)\n",
        "    calcular la aptitud de cada individuo de la población\n",
        "    Hijos <- ∅\n",
        "    mientras |Hijos| < |Padres|\n",
        "        usar aptitud para seleccionar un par de padres\n",
        "        cruzar a los padres para generar las crías c1 y c2\n",
        "        Hijos <- Hijos ∪ {c1, c2}\n",
        "    mutar aleatoriamente a las crías\n",
        "    Padres <- Hijos\n",
        "```"
      ],
      "metadata": {
        "nteract": {
          "transient": {
            "deleting": false
          }
        }
      }
    }
  ],
  "metadata": {
    "kernel_info": {
      "name": "python3"
    },
    "language_info": {
      "name": "python",
      "version": "3.7.3",
      "mimetype": "text/x-python",
      "codemirror_mode": {
        "name": "ipython",
        "version": 3
      },
      "pygments_lexer": "ipython3",
      "nbconvert_exporter": "python",
      "file_extension": ".py"
    },
    "kernelspec": {
      "argv": [
        "python",
        "-m",
        "ipykernel_launcher",
        "-f",
        "{connection_file}"
      ],
      "display_name": "Python 3",
      "language": "python",
      "name": "python3"
    },
    "nteract": {
      "version": "0.25.1"
    }
  },
  "nbformat": 4,
  "nbformat_minor": 0
}
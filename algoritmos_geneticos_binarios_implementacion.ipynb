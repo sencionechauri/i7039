{
  "cells": [
    {
      "cell_type": "markdown",
      "source": [
        "# <center>Algoritmos Genéticos Binarios</center>\n",
        "## <center>Implementación</center>"
      ],
      "metadata": {
        "nteract": {
          "transient": {
            "deleting": false
          }
        }
      }
    },
    {
      "cell_type": "code",
      "source": [
        "import copy\n",
        "import numpy as np\n",
        "\n",
        "class Individuo:\n",
        "    def __init__(self, alelos, longitud_gen, cromosoma):\n",
        "        self._alelos = alelos\n",
        "        self._longitud_gen = longitud_gen\n",
        "        self._cromosoma = cromosoma\n",
        "        self._fitness = 0"
      ],
      "outputs": [],
      "execution_count": null,
      "metadata": {
        "collapsed": true,
        "jupyter": {
          "source_hidden": false,
          "outputs_hidden": false
        },
        "nteract": {
          "transient": {
            "deleting": false
          }
        },
        "execution": {
          "iopub.status.busy": "2020-10-13T19:19:07.709Z",
          "iopub.execute_input": "2020-10-13T19:19:07.737Z",
          "iopub.status.idle": "2020-10-13T19:19:07.784Z",
          "shell.execute_reply": "2020-10-13T19:19:07.813Z"
        }
      }
    },
    {
      "cell_type": "code",
      "source": [
        "class AG:\n",
        "    def __init__(self, cantidad_individuos, alelos, tamano_gen, generaciones, p, problema):\n",
        "        self._cantidad_individuos = cantidad_individuos\n",
        "        self._alelos = alelos\n",
        "        self._tamano_gen = tamano_gen\n",
        "        self._generaciones = generaciones\n",
        "        self._p = p\n",
        "        self._problema = problema\n",
        "        self._individuos = np.array([])\n",
        "\n",
        "    def run(self):\n",
        "        self.crearIndividuos()\n",
        "        self._mejor_historico = self._individuos[0]\n",
        "        generacion = 1\n",
        "        while generacion <= self._generaciones:\n",
        "            self.evaluaIndividuos()\n",
        "            hijos = np.array([])\n",
        "            while len(hijos) < len(self._individuos):\n",
        "                padre1 = self.ruleta()\n",
        "                padre2 = self.ruleta()\n",
        "                while padre1 == padre2:\n",
        "                    padre2 = self.ruleta()\n",
        "                h1, h2 = self.cruza(self._individuos[padre1], self._individuos[padre2])\n",
        "                hijos = np.append(hijos, [h1])\n",
        "                hijos = np.append(hijos, [h2])\n",
        "            self.mutacion(hijos)\n",
        "            self._individuos = np.copy(hijos)\n",
        "            self._individuos[np.random.randint(len(self._individuos))] = copy.deepcopy(self._mejor_historico)\n",
        "            if generacion % 100 == 0:\n",
        "                print(\"Generación: \", generacion, 'Mejor Histórico: ', self._mejor_historico._cromosoma, self._mejor_historico._fitness)\n",
        "            generacion += 1\n",
        "\n",
        "    def crearIndividuos(self):\n",
        "        for i in range(self._cantidad_individuos):\n",
        "            cromosoma = np.random.randint(2, size = self._alelos)\n",
        "            individuo = Individuo(self._alelos, self._tamano_gen, cromosoma)\n",
        "            self._individuos = np.append(self._individuos, [individuo])\n",
        "\n",
        "    def evaluaIndividuos(self):\n",
        "        for i in self._individuos:\n",
        "            i._fitness = self._problema.f(self._tamano_gen, i._cromosoma)\n",
        "            if i._fitness > self._mejor_historico._fitness:\n",
        "                self._mejor_historico = copy.deepcopy(i)\n",
        "\n",
        "    def ruleta(self):\n",
        "        f_sum = np.sum([i._fitness for i in self._individuos])\n",
        "        if f_sum < 0:\n",
        "            f_sum *= -1\n",
        "        if f_sum == 0:\n",
        "            return np.random.randint(len(self._individuos))\n",
        "        else:\n",
        "            r = np.random.randint(f_sum + 1)\n",
        "            k = 0\n",
        "            F = self._individuos[k]._fitness\n",
        "            if F < 0:\n",
        "                F *= -1\n",
        "            while F < r and k < len(self._individuos):\n",
        "                k += 1\n",
        "                if self._individuos[k]._fitness < 0:\n",
        "                    F += self._individuos[k]._fitness * -1\n",
        "                else:\n",
        "                    F += self._individuos[k]._fitness\n",
        "            return k\n",
        "\n",
        "    def cruza(self, i1, i2):\n",
        "        h1 = copy.deepcopy(i1)\n",
        "        h2 = copy.deepcopy(i2)\n",
        "\n",
        "        s = self._alelos - 1\n",
        "        punto_cruza = np.random.randint(s) + 1\n",
        "        h1._cromosoma[punto_cruza:], h2._cromosoma[punto_cruza:] = h2._cromosoma[punto_cruza:], h1._cromosoma[punto_cruza:]\n",
        "        return h1, h2\n",
        "\n",
        "    def mutacion(self, hijos):\n",
        "        for h in hijos:\n",
        "            for bit in range(len(h._cromosoma)):\n",
        "                if np.random.rand() < self._p:\n",
        "                    h._cromosoma[bit] = int(not h._cromosoma[bit])"
      ],
      "outputs": [],
      "execution_count": null,
      "metadata": {
        "collapsed": true,
        "jupyter": {
          "source_hidden": false,
          "outputs_hidden": false
        },
        "nteract": {
          "transient": {
            "deleting": false
          }
        },
        "execution": {
          "iopub.status.busy": "2020-10-13T19:19:09.761Z",
          "iopub.execute_input": "2020-10-13T19:19:09.786Z",
          "iopub.status.idle": "2020-10-13T19:19:09.848Z",
          "shell.execute_reply": "2020-10-13T19:19:09.872Z"
        }
      }
    },
    {
      "cell_type": "code",
      "source": [
        "class Knapsack:\n",
        "    def __init__(self, pesos, valores, capacidad):\n",
        "        self._pesos = pesos\n",
        "        self._valores = valores\n",
        "        self._capacidad = capacidad\n",
        "\n",
        "    def f(self, tamano_gen, cromosoma):\n",
        "        f = 0\n",
        "        peso = 0\n",
        "        for i in range(len(cromosoma)):\n",
        "            if cromosoma[i]:\n",
        "                f = f + self._valores[i]\n",
        "                peso = peso + self._pesos[i]\n",
        "        if peso < self._capacidad:\n",
        "            return f\n",
        "        else:\n",
        "            return 0"
      ],
      "outputs": [],
      "execution_count": null,
      "metadata": {
        "collapsed": true,
        "jupyter": {
          "source_hidden": false,
          "outputs_hidden": false
        },
        "nteract": {
          "transient": {
            "deleting": false
          }
        },
        "execution": {
          "iopub.status.busy": "2020-10-13T19:19:12.260Z",
          "iopub.execute_input": "2020-10-13T19:19:12.284Z",
          "iopub.status.idle": "2020-10-13T19:19:12.330Z",
          "shell.execute_reply": "2020-10-13T19:19:12.360Z"
        }
      }
    },
    {
      "cell_type": "code",
      "source": [
        "def main():\n",
        "    pesos = [22, 14, 16, 23, 12, 15, 22, 6, 19, 20, 40, 8, 16, 6, 15, 21, 16]\n",
        "    valores = [55, 34, 28, 30, 80, 3, 28, 24, 21, 43, 54, 12, 21, 11, 6, 21, 28]\n",
        "    capacidad = 80\n",
        "    mochila = Knapsack(pesos, valores, capacidad)\n",
        "    alelos = len(pesos)\n",
        "    individuos = 32\n",
        "    tamano_gen = 1 #cada bit representa a un artículo de la mochila\n",
        "    generaciones = 2000\n",
        "    factor_mutacion = 0.01\n",
        "    ag = AG(individuos, alelos, tamano_gen, generaciones, factor_mutacion, mochila)\n",
        "    ag.run()"
      ],
      "outputs": [],
      "execution_count": null,
      "metadata": {
        "collapsed": true,
        "jupyter": {
          "source_hidden": false,
          "outputs_hidden": false
        },
        "nteract": {
          "transient": {
            "deleting": false
          }
        },
        "execution": {
          "iopub.status.busy": "2020-10-13T19:20:23.182Z",
          "iopub.execute_input": "2020-10-13T19:20:23.215Z",
          "iopub.status.idle": "2020-10-13T19:20:23.264Z",
          "shell.execute_reply": "2020-10-13T19:20:23.293Z"
        }
      }
    },
    {
      "cell_type": "code",
      "source": [
        "main()"
      ],
      "outputs": [],
      "execution_count": null,
      "metadata": {
        "collapsed": true,
        "jupyter": {
          "source_hidden": false,
          "outputs_hidden": false
        },
        "nteract": {
          "transient": {
            "deleting": false
          }
        },
        "execution": {
          "iopub.status.busy": "2020-10-13T19:23:50.106Z",
          "iopub.execute_input": "2020-10-13T19:23:50.126Z",
          "iopub.status.idle": "2020-10-13T19:24:09.051Z",
          "shell.execute_reply": "2020-10-13T19:24:09.114Z"
        }
      }
    }
  ],
  "metadata": {
    "kernel_info": {
      "name": "python3"
    },
    "language_info": {
      "name": "python",
      "version": "3.7.3",
      "mimetype": "text/x-python",
      "codemirror_mode": {
        "name": "ipython",
        "version": 3
      },
      "pygments_lexer": "ipython3",
      "nbconvert_exporter": "python",
      "file_extension": ".py"
    },
    "kernelspec": {
      "argv": [
        "python",
        "-m",
        "ipykernel_launcher",
        "-f",
        "{connection_file}"
      ],
      "display_name": "Python 3",
      "language": "python",
      "name": "python3"
    },
    "nteract": {
      "version": "0.25.1"
    }
  },
  "nbformat": 4,
  "nbformat_minor": 0
}
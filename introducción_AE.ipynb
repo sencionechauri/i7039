{
  "cells": [
    {
      "cell_type": "markdown",
      "source": [
        "# <center>Introducción a los Algoritmos Evolutivos</center>"
      ],
      "metadata": {
        "nteract": {
          "transient": {
            "deleting": false
          }
        }
      }
    },
    {
      "cell_type": "markdown",
      "source": [
        "## <center>Inicios</center>\n",
        "\n",
        "Mediados de las años 60s.\n",
        "\n",
        "* Rechenberg, I. (1965). Cybernetic Solution Path of an Experimental Problem. Royal Aircraft Establishment, Ministry of Aviation, Farnborough Hants, UK.\n",
        "\n",
        "* Fogel, L. J., Owens, A. J., and Walsh, M. J. (1966). Artificial Intelligence through Simulated Evolution. Wiley, New York.\n",
        "\n",
        "* Holland, J. H. (1975). Adaptation in Natural and Artificial Systems. University of Michigan Press, Ann Arbor."
      ],
      "metadata": {
        "nteract": {
          "transient": {
            "deleting": false
          }
        }
      }
    },
    {
      "cell_type": "markdown",
      "source": [
        "## <center>Idea y Objetivo</center>\n",
        "\n",
        "**Idea:** Desarrollar algoritmos inspirados por la evolución natural.\n",
        "\n",
        "**Objetivo:** Generar soluciones a problemas que eran muy difíciles de resolver con otros métodos analíticos."
      ],
      "metadata": {
        "nteract": {
          "transient": {
            "deleting": false
          }
        }
      }
    },
    {
      "cell_type": "markdown",
      "source": [
        "## <center>Crecimiento</center>\n",
        "\n",
        "El cómputo evolutivo rapidamente se convirtió  en un campo importatnte del aprendizaje de máquina y la optimización de sistemas y recientemente se expandió al área de diseño de hardware en tecnologías como:\n",
        "\n",
        "* Circuitos electrónicos reconfigurables\n",
        "* Manufactura asistida por computadora\n",
        "* Tecnologías en producción de materiales\n",
        "* Robótica"
      ],
      "metadata": {
        "nteract": {
          "transient": {
            "deleting": false
          }
        }
      }
    },
    {
      "cell_type": "markdown",
      "source": [
        "## <center>Evolución Natural vs Evolución Artificial</center>\n",
        "\n",
        "La evolución natural no tiene un objetivo predefinido (¿o sí?).\n",
        "\n",
        "La evolución artificial es un proceso de optimización que intenta encontrar soluciones a problemas predefinidos."
      ],
      "metadata": {
        "nteract": {
          "transient": {
            "deleting": false
          }
        }
      }
    },
    {
      "cell_type": "markdown",
      "source": [
        "## Teoría Evolutiva\n",
        "\n",
        "La teoría de la evolución natural se basa en cuatro pilares:\n",
        "\n",
        "* Población\n",
        "* Diversidad\n",
        "* Herencia\n",
        "* Selección"
      ],
      "metadata": {
        "nteract": {
          "transient": {
            "deleting": false
          }
        }
      }
    },
    {
      "cell_type": "markdown",
      "source": [
        "### Población\n",
        "\n",
        "Un grupo de dos o más individuos, es decir, no se puede hablar de evolución de un único individuo."
      ],
      "metadata": {
        "nteract": {
          "transient": {
            "deleting": false
          }
        }
      }
    },
    {
      "cell_type": "markdown",
      "source": [
        "### Diversidad\n",
        "\n",
        "Significa que los individuos de la población varían de uno a otro hasta cierta extensión."
      ],
      "metadata": {
        "nteract": {
          "transient": {
            "deleting": false
          }
        }
      }
    },
    {
      "cell_type": "markdown",
      "source": [
        "### Herencia\n",
        "\n",
        "Indica qué caracteres individuales pueden ser transmitidos a la descendencia a través de la reproducción."
      ],
      "metadata": {
        "nteract": {
          "transient": {
            "deleting": false
          }
        }
      }
    },
    {
      "cell_type": "markdown",
      "source": [
        "### Selección\n",
        "\n",
        "Indica que sólo parte de la población es capaz de reproducir y transmitir sus caracteres a generaciones futuras."
      ],
      "metadata": {
        "nteract": {
          "transient": {
            "deleting": false
          }
        }
      }
    },
    {
      "cell_type": "markdown",
      "source": [
        "## <center>Otros Conceptos: Progreso</center>\n",
        "\n",
        "* Nuevos individuos mejores que los previos\n",
        "* Individuos tienden a ser mejores en el futuro"
      ],
      "metadata": {
        "nteract": {
          "transient": {
            "deleting": false
          }
        }
      }
    },
    {
      "cell_type": "markdown",
      "source": [
        "## <center>Otros Conceptos: Evolución Neutral</center>\n",
        "\n",
        "Indica que la población está cambiando a lo largo de generaciones en formas que no afectan su tasa de reproducción."
      ],
      "metadata": {
        "nteract": {
          "transient": {
            "deleting": false
          }
        }
      }
    },
    {
      "cell_type": "markdown",
      "source": [
        "## <center>Una Definición</center>\n",
        "\n",
        "Un algoritmo que evoluciona una solución a un problema a lo largo de muchas **iteraciones**. Tipicamente una iteración de un Algoritmos Evolutivo es llamada una **generación** para mantener los fundamentos biológicos."
      ],
      "metadata": {
        "nteract": {
          "transient": {
            "deleting": false
          }
        }
      }
    }
  ],
  "metadata": {
    "kernel_info": {
      "name": "python3"
    },
    "language_info": {
      "name": "python3"
    },
    "kernelspec": {
      "argv": [
        "python",
        "-m",
        "ipykernel_launcher",
        "-f",
        "{connection_file}"
      ],
      "display_name": "Python 3",
      "language": "python",
      "name": "python3"
    },
    "nteract": {
      "version": "0.25.0"
    }
  },
  "nbformat": 4,
  "nbformat_minor": 0
}
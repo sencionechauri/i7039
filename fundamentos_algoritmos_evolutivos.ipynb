{
  "cells": [
    {
      "cell_type": "markdown",
      "source": [
        "# <center>Fundamentos de Algoritmos Evolutivos</center>"
      ],
      "metadata": {
        "nteract": {
          "transient": {
            "deleting": false
          }
        }
      }
    },
    {
      "cell_type": "markdown",
      "source": [
        "Como parte del desarrollo de algoritmos evolutivos se intenta crear algoritmos *inteligentes*."
      ],
      "metadata": {
        "nteract": {
          "transient": {
            "deleting": false
          }
        }
      }
    },
    {
      "cell_type": "markdown",
      "source": [
        "## <center>¿Inteligencia?</center>\n",
        "\n",
        "Algunas características consideradas como inteligentes son:\n",
        "\n",
        "* Adaptación\n",
        "* Aleatoriedad\n",
        "* Comunicación\n",
        "* Retroalimentación\n",
        "* Exploración y Explotación"
      ],
      "metadata": {
        "nteract": {
          "transient": {
            "deleting": false
          }
        }
      }
    },
    {
      "cell_type": "markdown",
      "source": [
        "## <center>Adaptación</center>\n",
        "\n",
        "Usualmente se considera la adaptación a entornos cambiantes como una caracterśica de inteligencia.\n",
        "\n",
        "Por ejemplo si ya sabes resolver un problema de forma eficiente y se te presenta una variante del mismo es muy probable que puedas resolver ese nuevo problema haciendo pequeños ajustes en la estrategia que te ha resultado en el pasado.\n",
        "\n",
        "<center><img src=\"media/adaptacion_1.png\" width=50%/></center>"
      ],
      "metadata": {
        "nteract": {
          "transient": {
            "deleting": false
          }
        }
      }
    },
    {
      "cell_type": "markdown",
      "source": [
        "Sin embargo no todo aquello que presenta adaptación es considerado inteligente; por ejemplo un sistema de control adaptivo no es considerado inteligente e incluso los virus, tan de moda en el año 2020, no son considerados como inteligente a pesar de los *comportamientos* que presentan.\n",
        "\n",
        "<center><img src=\"media/adaptacion_2.png\" width=50%/></center>\n",
        "\n",
        "La adaptación es necesaria pero no una condición suficiente para la inteligencia."
      ],
      "metadata": {
        "nteract": {
          "transient": {
            "deleting": false
          }
        }
      }
    },
    {
      "cell_type": "markdown",
      "source": [
        "## <center>Aleatoriedad</center>"
      ],
      "metadata": {
        "nteract": {
          "transient": {
            "deleting": false
          }
        }
      }
    },
    {
      "cell_type": "markdown",
      "source": [
        "La aleatoriedad es una característica de la inteligencia, pero sólo dentro de límites.\n",
        "\n",
        "El diseño de algoritmos evolutivos incluirá un componente de aleatoriedad.\n",
        "\n",
        "* Si se excluye la aleatoriedad nuestros AEs no funcionarán.\n",
        "* Si se usa mucha aleatoriedad tampoco funcionarán."
      ],
      "metadata": {
        "nteract": {
          "transient": {
            "deleting": false
          }
        }
      }
    },
    {
      "cell_type": "markdown",
      "source": [
        "## <center>Comunicación</center>\n"
      ],
      "metadata": {
        "nteract": {
          "transient": {
            "deleting": false
          }
        }
      }
    },
    {
      "cell_type": "markdown",
      "source": [
        "La inteligencia no sólo involucra comunicación, sino que emerge a partir de ella.\n",
        "\n",
        "La inteligencia surge de una población de individuos.\n",
        "\n",
        "<center><img src=\"media/comunicacion_1.png\" width=50%/></center>"
      ],
      "metadata": {
        "nteract": {
          "transient": {
            "deleting": false
          }
        }
      }
    },
    {
      "cell_type": "markdown",
      "source": [
        "Dado que la comunicación es una característica de la inteligencia, la mayoría de los algoritmos evolutivos involucran una población de soluciones candidatas a un problema.\n",
        "\n",
        "Esas soluciones candidatas son llamadas **individuos** y se comunican unas con otras y aprenden de sus éxitos y fracasos."
      ],
      "metadata": {
        "nteract": {
          "transient": {
            "deleting": false
          }
        }
      }
    },
    {
      "cell_type": "markdown",
      "source": [
        "## <center>Retroalimentación</center>\n",
        "\n",
        "Cuando cometemos errores u observamos los errores de otros modificamos nuestro comportamiento para no repetir esos errores.\n",
        "\n",
        "* El fracaso provee retroalimentación negativa.\n",
        "* El éxito provee retroalimentación positiva."
      ],
      "metadata": {
        "nteract": {
          "transient": {
            "deleting": false
          }
        }
      }
    },
    {
      "cell_type": "markdown",
      "source": [
        "Sin embargo la retroalimentación no es una condición suficiente para la inteligencia. Existen sistemas de automatización de espacios que mantienen la temperatura de una habitación en un valor preconfigurado, dichos sistemas función con sensores que proveen retroalimentación a manera de control y no por eso se consideran inteligentes.\n",
        "\n",
        "<center><img src=\"media/retroalimentacion_1.png\" width=50%/></center>\n",
        "\n",
        "La retroalimentación es una condición necesaria para la inteligencia, pero no suficiente."
      ],
      "metadata": {
        "nteract": {
          "transient": {
            "deleting": false
          }
        }
      }
    },
    {
      "cell_type": "markdown",
      "source": [
        "## <center>Exploración y Explotación</center>\n",
        "\n",
        "* Exploración: La búsqueda por nuevas ideas o estrategias.\n",
        "\n",
        "* Explotación: Uso de ideas y estrategias existentes que han tenido éxito en el pasado.\n",
        "\n",
        "La inteligencia incluye el balance apropiado entre exploración y explotación.\n",
        "\n",
        "Mucha exploración probablemente no de buenos resultados de optimización.\n",
        "\n",
        "Mucha explotación está relacionado a muy poca aleatoriedad, lo cual puede no llevar a resultados satisfactorios.\n",
        "\n",
        "\n",
        "\n"
      ],
      "metadata": {
        "nteract": {
          "transient": {
            "deleting": false
          }
        }
      }
    }
  ],
  "metadata": {
    "kernel_info": {
      "name": "python3"
    },
    "language_info": {
      "name": "python3"
    },
    "kernelspec": {
      "argv": [
        "python",
        "-m",
        "ipykernel_launcher",
        "-f",
        "{connection_file}"
      ],
      "display_name": "Python 3",
      "language": "python",
      "name": "python3"
    },
    "nteract": {
      "version": "0.25.1"
    }
  },
  "nbformat": 4,
  "nbformat_minor": 0
}
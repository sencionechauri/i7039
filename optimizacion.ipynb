{
  "cells": [
    {
      "cell_type": "markdown",
      "source": [
        "# <center>Optimización</center>"
      ],
      "metadata": {
        "nteract": {
          "transient": {
            "deleting": false
          }
        }
      }
    },
    {
      "cell_type": "markdown",
      "source": [
        "## <center>¿Dónde la encontramos?</center>\n",
        "\n",
        "Virtualmente en cualquier parte. Por optimizar nos referimos a obtener el mejor resultado posible con los recursos de los cuales disponemos o resolver un problema de la mejor forma posible.\n",
        "\n",
        "Por ejemplo si debemos llegar a un destino tal vez queremos que sea de la forma más rápida posible, en ese caso buscamos optimizar el tiempo, o bien tal vez queremos organizar productos en una estantería de forma tal que quepan los más posibles optimizando el espacio o quizá necesitamos organizar un equipo de desarrolladores para que terminen un proyecto lo antes posible con la menor cantidad de fallas en el primer release, otro ejemplo sería colocar la mayor cantidad posible de transistores en un espacio determinado de una placa electrónica."
      ],
      "metadata": {
        "nteract": {
          "transient": {
            "deleting": false
          }
        }
      }
    },
    {
      "cell_type": "markdown",
      "source": [
        "## <center>¿Cómo podemos resolver problemas de optimización?</center>\n",
        "\n",
        "Los algoritmos evolutivos son una herramienta adecuada para resolver problemas de optimización. Dichos algoritmos se encargan de *evolucionar* una solución a un problema de forma tal que se encuentre la mejor posible."
      ],
      "metadata": {
        "nteract": {
          "transient": {
            "deleting": false
          }
        }
      }
    },
    {
      "cell_type": "markdown",
      "source": [
        "## <center>¿Cómo se representan los problemas de optimización?</center>\n",
        "\n",
        "Un problema de optimización se puede escribir como un problema de **minimización** o un problema de **maximización**.\n",
        "\n",
        "Ambos tipos de problemas se pueden convertir a la forma contraria:\n",
        "\n",
        "$$ \\min \\limits_{x}^{} f(x) \\leftrightarrow \\max[-f(x)]$$\n",
        "$$ \\max \\limits_{x}^{} f(x) \\leftrightarrow \\min[-f(x)]$$"
      ],
      "metadata": {
        "nteract": {
          "transient": {
            "deleting": false
          }
        }
      }
    },
    {
      "cell_type": "markdown",
      "source": [
        "## <center>Terminología</center>\n",
        "\n",
        "$f(x)$ Función objetivo.<br>\n",
        "$x$ Variable independiente o de decisión. Es un vector.<br>\n",
        "$x_i$ Componente de la solución. Es un elemento de $x$.<br>\n",
        "Dimensión del problema: Cantidad de elementos en $x$.<br>\n",
        "$\\min \\limits_{x}^{} f(x) \\rightarrow f(x)$ se llama objetivo o **costo**.<br>\n",
        "$\\max \\limits_{x}^{} f(x) \\rightarrow f(x)$ se llama objetivo o **fitness**.\n"
      ],
      "metadata": {
        "nteract": {
          "transient": {
            "deleting": false
          }
        }
      }
    },
    {
      "cell_type": "markdown",
      "source": [
        "<center><img src=\"media/question.png\" width=\"20%\"/><p><b>¿Qué?</b></p></center>"
      ],
      "metadata": {
        "nteract": {
          "transient": {
            "deleting": false
          }
        }
      }
    },
    {
      "cell_type": "markdown",
      "source": [
        "## <center>Ejemplo</center>\n",
        "Veamos un ejemplo de minimización.\n",
        "\n",
        "minimizar $$ f(x,y,z) = (x-1)^{2} + (y+2)^{2} + (z-5)^{2} + 7$$\n",
        "\n",
        "$x, y, z$ son las **variables independientes**.<br>\n",
        "Es un problema tridimensional porque hay tres variables independientes o de decisión.<br>\n",
        "$f(x, y, z)$ es la función objetivo o de **costo** porque el problema es de minimización.<br>\n",
        "Se puede cambiar a un problema de maximización definiendo $g(x, y, z) = -f(y, x, z)$ e intentando maximizar $g(x, y, z)$.<br>\n",
        "$g(x,y,z)$ se llema función objetivo o **fitness**. <br><br>\n",
        "\n",
        "Para el ejemplo planteado los valores de las variables independientes deben ser aquellos que generen el menor resultado posible y como todos los términos están elevados al cuadrado cualquier número distinto de cero sumaría valor al resultado por lo tanto el menor valor posible es $7$, y los valores de las variables de decision son:\n",
        "\n",
        "$$x=-1$$ $$y=-2$$ $$z=5$$"
      ],
      "metadata": {
        "nteract": {
          "transient": {
            "deleting": false
          }
        }
      }
    },
    {
      "cell_type": "markdown",
      "source": [
        "## <center>Ejemplo</center>\n",
        "\n",
        "$$\\min \\limits_{x}^{} f(x)$$\n",
        "$$f(x) = x^{4}+5x^{3}+4x^{2}-4x+1$$\n",
        "\n",
        "Para esta función existen dos valores mínimos cuyos valores están indicados en la gráfica.\n",
        "<center><img src=\"media/grafica_1.png\"/></center>"
      ],
      "metadata": {
        "nteract": {
          "transient": {
            "deleting": false
          }
        }
      }
    },
    {
      "cell_type": "markdown",
      "source": [
        "## <center>Mínimo Local</center>\n",
        "\n",
        "$f(x)^{\\\\*} < f(x)$ para todo $x$ tal que $\\lvert\\lvert x-x^{\\\\*}\\lvert\\lvert < \\epsilon$<br><br>\n",
        "\n",
        "Donde $\\lvert\\lvert \\bullet \\lvert\\lvert$ es alguna medida de distancia. <br>\n",
        "$\\epsilon > 0$ es una vecindad definida por el usuario.<br><br>\n",
        "\n",
        "Se puede entender como el valor mínimo que se puede encontrar en un rango determinado de la función."
      ],
      "metadata": {
        "nteract": {
          "transient": {
            "deleting": false
          }
        }
      }
    },
    {
      "cell_type": "markdown",
      "source": [
        "## <center>Mínimo Global</center>\n",
        "\n",
        "$f(x)^{\\\\*} < f(x)$ para todo $x$<br><br>\n",
        "\n",
        "Representa el menor valor de toda la función.\n",
        "\n"
      ],
      "metadata": {
        "nteract": {
          "transient": {
            "deleting": false
          }
        }
      }
    },
    {
      "cell_type": "markdown",
      "source": [
        "## <center>Optimización con Restricciones</center>\n",
        "\n",
        "Optimiza una función $f(x)$ con restricciones en los valores permitidos de $x$, por ejemplo:\n",
        "\n",
        "$\\min \\limits_{x}^{} f(x)$ donde $f(x) = x^{4}+5x^{3}+4x^{2}-4x+1$ y $x \\geq -1.5$\n",
        "\n",
        "<center><img src=\"media/grafica_2.png\"/></center>"
      ],
      "metadata": {
        "nteract": {
          "transient": {
            "deleting": false
          }
        }
      }
    },
    {
      "cell_type": "markdown",
      "source": [
        "## <center>Optimización Multi-Objetivo</center>\n",
        "\n",
        "Nos interesa optimizar más de una medición a la vez, un ejemplo en la industria pudiera ser hacer el motor más potente y que consuma menos combustible.\n",
        "\n",
        "Otro ejemplo con funciones matemáticas pudiera ser encontrar el mínimo de dos funciones:<br><br>\n",
        "$\\min \\limits_{x}^{} [f(x), g(x)]$ donde $f(x) = x^{4}+5x^{3}+4x^{2}-4x+1$<br>\n",
        "y<br>\n",
        "$g(x) = 2(x+1)^{2}$\n",
        "\n",
        "<center><img src=\"media/grafica_3.png\"/></center>\n"
      ],
      "metadata": {
        "nteract": {
          "transient": {
            "deleting": false
          }
        }
      }
    },
    {
      "cell_type": "markdown",
      "source": [
        "## <center>Optimización Multi-Modal</center>\n",
        "\n",
        "Un problema de optimización multi-modal es aquel que tiene más de un mínimo/máximo local.\n",
        "\n",
        "<center><img src=\"media/grafica_4.png\" /></center>"
      ],
      "metadata": {
        "nteract": {
          "transient": {
            "deleting": false
          }
        }
      }
    },
    {
      "cell_type": "markdown",
      "source": [
        "## <center>Técnicas Clásicas de Optimización</center>\n",
        "\n",
        "* Útiles para encontrar la solución óptima o el mínimo o máximo de funciones continuas y diferenciables.\n",
        "* Son métodos analíticos y hacen uso de cálculo diferencial para encontrar la solución óptima.\n",
        "* Asumen que la función es dos veces diferenciable con respecto a las variables de diseño y las derivadas son continuas.\n",
        "\n",
        "Tipos de problemas:\n",
        "\n",
        "* Funciones de una variable.\n",
        "* Funciones de múltiples variables sin restricciones.\n",
        "* Funciones de múltiples variables con restricciones de igualdad y desigualdad."
      ],
      "metadata": {
        "nteract": {
          "transient": {
            "deleting": false
          }
        }
      }
    },
    {
      "cell_type": "markdown",
      "source": [
        "## <center>Algunas Técnicas Clásicas de Optimización</center>\n",
        "\n",
        "* Programación Lineal\n",
        "* Programación Entera\n",
        "* Programación Cuadrática\n",
        "* Programación No-lineal\n",
        "* Programación Estocástica\n",
        "* Programación Dinámica\n",
        "* Optimización Combinatoria"
      ],
      "metadata": {
        "nteract": {
          "transient": {
            "deleting": false
          }
        }
      }
    },
    {
      "cell_type": "markdown",
      "source": [
        "## <center>Técnicas Heurísticas de Optimización</center>\n",
        "\n",
        "Diseñadas para resolver problemas más rápido y eficientemente que las técnicas clásicas.\n",
        "Sacrifican optimalidad y precisión por ganar velocidad, es decir que no hay garantía de encontrar el valor óptimo.\n",
        "\n",
        "Algunas técnicas incluyen:\n",
        "\n",
        "* Algoritmos Genéticos\n",
        "* Inteligencia en Enjambre\n",
        "* Simulated Annealing\n",
        "* Redes Neuronales Artificiales"
      ],
      "metadata": {
        "nteract": {
          "transient": {
            "deleting": false
          }
        }
      }
    }
  ],
  "metadata": {
    "kernel_info": {
      "name": "python3"
    },
    "language_info": {
      "name": "python3"
    },
    "kernelspec": {
      "argv": [
        "python",
        "-m",
        "ipykernel_launcher",
        "-f",
        "{connection_file}"
      ],
      "display_name": "Python 3",
      "language": "python",
      "name": "python3"
    },
    "nteract": {
      "version": "0.25.0"
    }
  },
  "nbformat": 4,
  "nbformat_minor": 0
}
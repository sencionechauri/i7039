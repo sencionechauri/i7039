{
  "cells": [
    {
      "cell_type": "markdown",
      "source": [
        "# <center>Optimización</center>\n",
        "## <center>Encontrar Puntos Estacionarios</center>"
      ],
      "metadata": {
        "nteract": {
          "transient": {
            "deleting": false
          }
        }
      }
    },
    {
      "cell_type": "markdown",
      "source": [
        "Los valores mínimos y máximos de una función se encuentran en sus puntos estacionarios y a su vez los puntos estacionarios se localizan donde el gradiente de la función es cero. La primer derivada de una función describe el gradiente."
      ],
      "metadata": {
        "nteract": {
          "transient": {
            "deleting": false
          }
        }
      }
    },
    {
      "cell_type": "markdown",
      "source": [
        "## <center>Pasos para Encontrar Puntos Estacionarios</center>\n",
        "\n",
        "1. Derivar la función.\n",
        "2. Igualar la derivada a $0$ y resolver la ecuación para encontrar los valores de $x$.\n",
        "3. Sustituir los valores de $x$ en la ecuación original para encontrar los valores de $y$."
      ],
      "metadata": {
        "nteract": {
          "transient": {
            "deleting": false
          }
        }
      }
    },
    {
      "cell_type": "markdown",
      "source": [
        "## <center>Ejemplo</center>\n",
        "\n",
        "$$y=x^{3}-4x^{2}+x+6$$\n",
        "\n",
        "1. $\\frac{dy}{dx} = 3x^{2}-8x+1$\n",
        "2. $3x^{2}-8x+1=0$\n",
        "\n",
        "Obtener raíces<br>\n",
        "$x_{1}=\\frac{-b+\\sqrt{b^{2}-4ac}}{2a}$<br>\n",
        "$x_{1}=\\frac{8+\\sqrt{8^{2}-4(3)(1)}}{2(3)}$<br>\n",
        "$x_{1}=2.5351$<br>\n",
        "$x_{2}=\\frac{-b-\\sqrt{b^{2}-4ac}}{2a}$<br>\n",
        "$x_{2}=0.1314$<br><br>\n",
        "\n",
        "3. $y_{1}=2.5351^{3}-4(2.5351)^{2}+2.5351+6=-0.8794$<br>\n",
        "$y_{2}=0.1314^{3}-4(0.1314)^{2}+0.1314+6=6.0646$<br><br>\n",
        "\n",
        "por lo tanto hay puntos estacionarios en $(2.5351, -0.8794)$ y $(0.1314, 6.0646)$"
      ],
      "metadata": {
        "nteract": {
          "transient": {
            "deleting": false
          }
        }
      }
    },
    {
      "cell_type": "markdown",
      "source": [
        "## <center>Clasificación de Puntos Estacionarios</center>\n",
        "\n",
        "Se utiliza la segunda derivada.\n",
        "\n",
        "* Si la segunda derivada es **positiva**, el punto estacionario es un **mínimo**.\n",
        "* Si la segunda derivada es **negativa**, el punto estacionario es un **máximo**.\n",
        "* Si es cero es un punto de inflexión."
      ],
      "metadata": {
        "nteract": {
          "transient": {
            "deleting": false
          }
        }
      }
    },
    {
      "cell_type": "markdown",
      "source": [
        "## <center>Ejemplo: Continuación</center>\n",
        "$\\frac{d^{2}y}{dx^{2}}=6x-8$<br>\n",
        "\n",
        "para $x_{1}$<br>\n",
        "$\\frac{d^{2}y}{dx^{2}}=6(2.5351)-8=7.2105$<br>\n",
        "\n",
        "para $x_{2}$<br>\n",
        "$\\frac{d^{2}y}{dx^{2}}=6(0.1314)-8=-7.2116$<br><br>\n",
        "\n",
        "Por lo tanto hay un mínimo en $(2.5351, -0.8794)$ y un máximo en $(0.1314, 6.0646)$\n",
        "\n",
        "<center><img src=\"media/estacionarios.png\" width=75%/></center>"
      ],
      "metadata": {
        "nteract": {
          "transient": {
            "deleting": false
          }
        }
      }
    }
  ],
  "metadata": {
    "kernel_info": {
      "name": "python3"
    },
    "language_info": {
      "name": "python3"
    },
    "kernelspec": {
      "argv": [
        "python",
        "-m",
        "ipykernel_launcher",
        "-f",
        "{connection_file}"
      ],
      "display_name": "Python 3",
      "language": "python",
      "name": "python3"
    },
    "nteract": {
      "version": "0.25.0"
    }
  },
  "nbformat": 4,
  "nbformat_minor": 0
}
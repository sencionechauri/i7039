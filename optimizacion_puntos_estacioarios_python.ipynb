{
  "cells": [
    {
      "cell_type": "markdown",
      "source": [
        "# <center>Optimización</center>\n",
        "## <center>Encontrar Puntos Estacionarios de Forma Automática</center>"
      ],
      "metadata": {
        "nteract": {
          "transient": {
            "deleting": false
          }
        }
      }
    },
    {
      "cell_type": "markdown",
      "source": [
        "Para encontrar los puntos estacionarios de forma automática utilizaremos el lenguaje de programación Python."
      ],
      "metadata": {
        "nteract": {
          "transient": {
            "deleting": false
          }
        }
      }
    },
    {
      "cell_type": "markdown",
      "source": [
        "## <center>Ejemplo</center>\n",
        "\n",
        "$$y=x^{3}-4x^{2}+x+6$$"
      ],
      "metadata": {
        "nteract": {
          "transient": {
            "deleting": false
          }
        }
      }
    },
    {
      "cell_type": "code",
      "source": [
        "#importamos módulos para operaciones numéricas y para graficar\n",
        "import numpy as np\n",
        "import matplotlib.pyplot as plt\n",
        "\n",
        "#definimos el polinomio que se desea resolver.\n",
        "#el polinomio se escribe con el mayor exponente al inicio, en este caso x³\n",
        "polinomio = [1, -4, 1, 6]\n",
        "#convertimos a un objeto polinomial y resolvemos\n",
        "poly = np.poly1d(polinomio)\n",
        "primer_derivada = np.polyder(poly, 1)\n",
        "segunda_derivada = np.polyder(poly, 2)\n",
        "raices = np.roots(primer_derivada)\n",
        "valores = np.polyval(poly, raices) #evaluamos el polinomio en las raíces\n",
        "valores2d = np.polyval(segunda_derivada, raices) #evaluamos la seunda derivada en las raíces\n",
        "\n",
        "#rango para x\n",
        "mayor = np.max(raices) + 0.5 \n",
        "menor = np.min(raices) - 0.5\n",
        "#100 puntos en x para evaluar\n",
        "x = np.linspace(menor, mayor, 100)\n",
        "#valores de en la función\n",
        "y = np.polyval(poly, x)\n",
        "\n",
        "#mostramos la gráfica\n",
        "plt.plot(x, y, 'r')\n",
        "plt.plot(raices, valores, '*g')\n",
        "plt.show()"
      ],
      "outputs": [],
      "execution_count": null,
      "metadata": {
        "collapsed": true,
        "jupyter": {
          "source_hidden": false,
          "outputs_hidden": false
        },
        "nteract": {
          "transient": {
            "deleting": false
          }
        },
        "execution": {
          "iopub.status.busy": "2020-09-23T01:47:31.351Z",
          "iopub.execute_input": "2020-09-23T01:47:31.619Z",
          "iopub.status.idle": "2020-09-23T01:47:32.800Z",
          "shell.execute_reply": "2020-09-23T01:47:33.115Z"
        }
      }
    }
  ],
  "metadata": {
    "kernel_info": {
      "name": "python3"
    },
    "language_info": {
      "name": "python",
      "version": "3.7.3",
      "mimetype": "text/x-python",
      "codemirror_mode": {
        "name": "ipython",
        "version": 3
      },
      "pygments_lexer": "ipython3",
      "nbconvert_exporter": "python",
      "file_extension": ".py"
    },
    "kernelspec": {
      "argv": [
        "python",
        "-m",
        "ipykernel_launcher",
        "-f",
        "{connection_file}"
      ],
      "display_name": "Python 3",
      "language": "python",
      "name": "python3"
    },
    "nteract": {
      "version": "0.25.0"
    }
  },
  "nbformat": 4,
  "nbformat_minor": 0
}
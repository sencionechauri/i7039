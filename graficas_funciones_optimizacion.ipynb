{
  "cells": [
    {
      "cell_type": "markdown",
      "source": [
        "# <center>Funciones de Prueba para Algoritmos de Optimización</center>"
      ],
      "metadata": {
        "nteract": {
          "transient": {
            "deleting": false
          }
        }
      }
    },
    {
      "cell_type": "markdown",
      "source": [
        "Existen distintas funciones que nos permiten evaluar el desempeño de los algoritmos de optimización. En el curso utilizaremos algunas de esas funciones para poder comparar nuestros algoritmos.\n",
        "\n",
        "En este cuaderno veremos cómo graficar la función \"sphere\" en una gráfica de volumen."
      ],
      "metadata": {
        "nteract": {
          "transient": {
            "deleting": false
          }
        }
      }
    },
    {
      "cell_type": "markdown",
      "source": [
        "## <center>Sphere</center>\n",
        "\n",
        "Función: $$f(x) = \\sum_{i=1}^{n}x_{i}^{2}$$\n",
        "Posición del mínimo: $$x^{\\ast} = 0$$\n",
        "Valor del mínimo: $$f(x^{\\ast}) = 0$$\n",
        "Rango: $$x_i \\in [-5.12, +5.12]$$\n",
        "<center><img src=\"media/grafica_sphere.png\" /></center>"
      ],
      "metadata": {
        "nteract": {
          "transient": {
            "deleting": false
          }
        }
      }
    },
    {
      "cell_type": "code",
      "source": [
        "#Comenzamos importando los módulos necesarios para graficar y el módulo numpy\n",
        "from mpl_toolkits.mplot3d import Axes3D\n",
        "import numpy as np\n",
        "import matplotlib.pyplot as plt\n",
        "from matplotlib import cm"
      ],
      "outputs": [],
      "execution_count": null,
      "metadata": {
        "collapsed": true,
        "jupyter": {
          "source_hidden": false,
          "outputs_hidden": false
        },
        "nteract": {
          "transient": {
            "deleting": false
          }
        },
        "execution": {
          "iopub.status.busy": "2020-09-28T08:28:29.213Z",
          "iopub.execute_input": "2020-09-28T08:28:29.228Z",
          "iopub.status.idle": "2020-09-28T08:28:33.298Z",
          "shell.execute_reply": "2020-09-28T08:28:33.321Z"
        }
      }
    },
    {
      "cell_type": "code",
      "source": [
        "#Creamos una figura\n",
        "fig = plt.figure()\n",
        "#Definimos los ejes para que sean una proyección 3d\n",
        "ax = fig.gca(projection = '3d')\n",
        "\n",
        "#Generamos el rango para la función según los valores indicados por la función. Como tercer parámetro definimos cada cuanto queremos que haya un punto, mientras más pequeño el valor más fina la gráfica.\n",
        "#Para graficar en volumen necesitamos dos dimensiones x, y \n",
        "X = np.arange(-5.12, 5.12, 0.1)\n",
        "Y = np.arange(-5.12, 5.12, 0.1)\n",
        "#Generamos una maya con los valores de x, y\n",
        "X, Y = np.meshgrid(X, Y)\n",
        "#Calculamos el valor de la altura (la tercer dimensión) según lo descrito por la función esfera, es decir la suma del cuadrado de cada dimensión\n",
        "Z = X**2 + Y**2\n",
        "\n",
        "#Creamos la superficie a graficar\n",
        "surf = ax.plot_surface(X, Y, Z, cmap = cm.coolwarm, linewidth = 1)\n",
        "#Agregamos una barra de color como indicativo de los valores en la función\n",
        "fig.colorbar(surf)\n",
        "\n",
        "#Graficamos el resultado\n",
        "plt.show()"
      ],
      "outputs": [],
      "execution_count": null,
      "metadata": {
        "collapsed": true,
        "jupyter": {
          "source_hidden": false,
          "outputs_hidden": false
        },
        "nteract": {
          "transient": {
            "deleting": false
          }
        },
        "execution": {
          "iopub.status.busy": "2020-09-28T08:40:40.032Z",
          "iopub.execute_input": "2020-09-28T08:40:40.047Z",
          "iopub.status.idle": "2020-09-28T08:40:40.893Z",
          "shell.execute_reply": "2020-09-28T08:40:40.917Z"
        }
      }
    }
  ],
  "metadata": {
    "kernel_info": {
      "name": "python3"
    },
    "language_info": {
      "name": "python",
      "version": "3.7.3",
      "mimetype": "text/x-python",
      "codemirror_mode": {
        "name": "ipython",
        "version": 3
      },
      "pygments_lexer": "ipython3",
      "nbconvert_exporter": "python",
      "file_extension": ".py"
    },
    "kernelspec": {
      "argv": [
        "python",
        "-m",
        "ipykernel_launcher",
        "-f",
        "{connection_file}"
      ],
      "display_name": "Python 3",
      "language": "python",
      "name": "python3"
    },
    "nteract": {
      "version": "0.25.0"
    }
  },
  "nbformat": 4,
  "nbformat_minor": 0
}